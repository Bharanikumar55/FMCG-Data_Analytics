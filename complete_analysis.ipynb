{
 "cells": [
  {
   "cell_type": "code",
   "execution_count": 1,
   "id": "dbb4306c-905d-4da4-a12f-7e1db058437a",
   "metadata": {},
   "outputs": [],
   "source": [
    "import pandas as pd"
   ]
  },
  {
   "cell_type": "code",
   "execution_count": 7,
   "id": "54654169-c1e1-4742-a483-bbb7f5d4d0a6",
   "metadata": {},
   "outputs": [
    {
     "name": "stdout",
     "output_type": "stream",
     "text": [
      "<class 'pandas.core.frame.DataFrame'>\n",
      "RangeIndex: 1000 entries, 0 to 999\n",
      "Data columns (total 10 columns):\n",
      " #   Column                   Non-Null Count  Dtype  \n",
      "---  ------                   --------------  -----  \n",
      " 0   Date                     1000 non-null   object \n",
      " 1   Product_Category         1000 non-null   object \n",
      " 2   Sales_Volume             1000 non-null   int64  \n",
      " 3   Price                    1000 non-null   float64\n",
      " 4   Promotion                1000 non-null   int64  \n",
      " 5   Store_Location           1000 non-null   object \n",
      " 6   Weekday                  1000 non-null   int64  \n",
      " 7   Supplier_Cost            1000 non-null   float64\n",
      " 8   Replenishment_Lead_Time  1000 non-null   int64  \n",
      " 9   Stock_Level              1000 non-null   int64  \n",
      "dtypes: float64(2), int64(5), object(3)\n",
      "memory usage: 78.3+ KB\n",
      "<class 'pandas.core.frame.DataFrame'>\n",
      "RangeIndex: 25000 entries, 0 to 24999\n",
      "Data columns (total 24 columns):\n",
      " #   Column                        Non-Null Count  Dtype  \n",
      "---  ------                        --------------  -----  \n",
      " 0   Ware_house_ID                 25000 non-null  object \n",
      " 1   WH_Manager_ID                 25000 non-null  object \n",
      " 2   Location_type                 25000 non-null  object \n",
      " 3   WH_capacity_size              25000 non-null  object \n",
      " 4   zone                          25000 non-null  object \n",
      " 5   WH_regional_zone              25000 non-null  object \n",
      " 6   num_refill_req_l3m            25000 non-null  int64  \n",
      " 7   transport_issue_l1y           25000 non-null  int64  \n",
      " 8   Competitor_in_mkt             25000 non-null  int64  \n",
      " 9   retail_shop_num               25000 non-null  int64  \n",
      " 10  wh_owner_type                 25000 non-null  object \n",
      " 11  distributor_num               25000 non-null  int64  \n",
      " 12  flood_impacted                25000 non-null  int64  \n",
      " 13  flood_proof                   25000 non-null  int64  \n",
      " 14  electric_supply               25000 non-null  int64  \n",
      " 15  dist_from_hub                 25000 non-null  int64  \n",
      " 16  workers_num                   24010 non-null  float64\n",
      " 17  wh_est_year                   13119 non-null  float64\n",
      " 18  storage_issue_reported_l3m    25000 non-null  int64  \n",
      " 19  temp_reg_mach                 25000 non-null  int64  \n",
      " 20  approved_wh_govt_certificate  24092 non-null  object \n",
      " 21  wh_breakdown_l3m              25000 non-null  int64  \n",
      " 22  govt_check_l3m                25000 non-null  int64  \n",
      " 23  product_wg_ton                25000 non-null  int64  \n",
      "dtypes: float64(2), int64(14), object(8)\n",
      "memory usage: 4.6+ MB\n"
     ]
    }
   ],
   "source": [
    "#load and understanding the data\n",
    "sales_df=pd.read_csv(r\"C:\\Users\\jites\\Desktop\\data analytics\\extended_fmcg_demand_forecasting.csv\")\n",
    "warehouse_df=pd.read_csv(r\"C:\\Users\\jites\\Desktop\\data analytics\\FMCG_data.csv\\FMCG_data.csv\")\n",
    "\n",
    "sales_df.info()\n",
    "warehouse_df.info()"
   ]
  },
  {
   "cell_type": "code",
   "execution_count": 11,
   "id": "05d9e6ea-1e04-4611-941d-a77fc3e8e305",
   "metadata": {},
   "outputs": [
    {
     "name": "stdout",
     "output_type": "stream",
     "text": [
      "Date                       0\n",
      "Product_Category           0\n",
      "Sales_Volume               0\n",
      "Price                      0\n",
      "Promotion                  0\n",
      "Store_Location             0\n",
      "Weekday                    0\n",
      "Supplier_Cost              0\n",
      "Replenishment_Lead_Time    0\n",
      "Stock_Level                0\n",
      "dtype: int64\n",
      "Ware_house_ID                   0\n",
      "WH_Manager_ID                   0\n",
      "Location_type                   0\n",
      "WH_capacity_size                0\n",
      "zone                            0\n",
      "WH_regional_zone                0\n",
      "num_refill_req_l3m              0\n",
      "transport_issue_l1y             0\n",
      "Competitor_in_mkt               0\n",
      "retail_shop_num                 0\n",
      "wh_owner_type                   0\n",
      "distributor_num                 0\n",
      "flood_impacted                  0\n",
      "flood_proof                     0\n",
      "electric_supply                 0\n",
      "dist_from_hub                   0\n",
      "workers_num                     0\n",
      "wh_est_year                     0\n",
      "storage_issue_reported_l3m      0\n",
      "temp_reg_mach                   0\n",
      "approved_wh_govt_certificate    0\n",
      "wh_breakdown_l3m                0\n",
      "govt_check_l3m                  0\n",
      "product_wg_ton                  0\n",
      "dtype: int64\n"
     ]
    }
   ],
   "source": [
    "#Data cleaning\n",
    "# Check missing values\n",
    "print(sales_df.isnull().sum())\n",
    "print(warehouse_df.isnull().sum())\n",
    "\n",
    "\n"
   ]
  },
  {
   "cell_type": "code",
   "execution_count": 12,
   "id": "86c27332-f483-48f4-8589-196f8ee95ffc",
   "metadata": {},
   "outputs": [],
   "source": [
    "# Filling the missing values\n",
    "# Recommended way to avoid chained assignment warning\n",
    "warehouse_df['workers_num'] = warehouse_df['workers_num'].fillna(warehouse_df['workers_num'].median())\n",
    "warehouse_df['wh_est_year'] = warehouse_df['wh_est_year'].fillna(warehouse_df['wh_est_year'].mode()[0])\n",
    "warehouse_df['approved_wh_govt_certificate'] = warehouse_df['approved_wh_govt_certificate'].fillna(\"Unknown\")\n"
   ]
  },
  {
   "cell_type": "code",
   "execution_count": 14,
   "id": "530f3392-e500-4475-afb4-f2c15b6429d5",
   "metadata": {},
   "outputs": [],
   "source": [
    "warehouse_grouped = warehouse_df.groupby('Location_type').mean(numeric_only=True).reset_index()\n",
    "warehouse_grouped.rename(columns={'Location_type': 'Store_Location'}, inplace=True)\n",
    "\n",
    "# Merge with sales data\n",
    "merged_df = pd.merge(sales_df, warehouse_grouped, on='Store_Location', how='left')\n"
   ]
  }
 ],
 "metadata": {
  "kernelspec": {
   "display_name": "Python 3 (ipykernel)",
   "language": "python",
   "name": "python3"
  },
  "language_info": {
   "codemirror_mode": {
    "name": "ipython",
    "version": 3
   },
   "file_extension": ".py",
   "mimetype": "text/x-python",
   "name": "python",
   "nbconvert_exporter": "python",
   "pygments_lexer": "ipython3",
   "version": "3.12.3"
  }
 },
 "nbformat": 4,
 "nbformat_minor": 5
}
